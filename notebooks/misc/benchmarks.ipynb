{
 "cells": [
  {
   "cell_type": "code",
   "execution_count": 23,
   "metadata": {},
   "outputs": [],
   "source": [
    "import torch\n",
    "import datasets\n",
    "import warnings\n",
    "from tqdm import tqdm\n",
    "from torch.utils.data import Dataset, DataLoader\n",
    "from transformers import AutoTokenizer, AutoModelForSequenceClassification\n",
    "from sklearn.metrics import accuracy_score, precision_recall_fscore_support\n",
    "\n",
    "warnings.filterwarnings('ignore')"
   ]
  },
  {
   "cell_type": "code",
   "execution_count": 24,
   "metadata": {},
   "outputs": [],
   "source": [
    "class TextDataset(Dataset):\n",
    "    def __init__(self, texts, labels, tokenizer, max_length=512):\n",
    "        self.encodings = tokenizer(texts, truncation=True, padding=True, max_length=max_length)\n",
    "        self.labels = labels\n",
    "\n",
    "    def __getitem__(self, idx):\n",
    "        item = {key: torch.tensor(val[idx]) for key, val in self.encodings.items()}\n",
    "        item['labels'] = torch.tensor(self.labels[idx])\n",
    "        return item\n",
    "\n",
    "    def __len__(self):\n",
    "        return len(self.labels)\n",
    "\n",
    "class ModelEvaluator:\n",
    "    def __init__(self, model_name, tokenizer_name, device='cuda' if torch.cuda.is_available() else 'cpu'):\n",
    "        self.model_name = model_name\n",
    "        self.tokenizer_name = tokenizer_name\n",
    "        self.device = device\n",
    "        self.model = None\n",
    "        self.tokenizer = None\n",
    "        self.is_three_class = 'deproberta-large-depression' in model_name\n",
    "        \n",
    "    def load_model(self):\n",
    "        try:\n",
    "            self.tokenizer = AutoTokenizer.from_pretrained(self.tokenizer_name)\n",
    "            self.model = AutoModelForSequenceClassification.from_pretrained(self.model_name)\n",
    "            self.model.to(self.device)\n",
    "            self.model.eval()\n",
    "            return True\n",
    "        except Exception as e:\n",
    "            print(f\"Error loading model {self.model_name}: {str(e)}\")\n",
    "            return False\n",
    "\n",
    "    def prepare_data(self, df, batch_size=8):\n",
    "        texts = df['text'].tolist()\n",
    "        labels = df['label'].tolist()\n",
    "        dataset = TextDataset(texts, labels, self.tokenizer)\n",
    "        return DataLoader(dataset, batch_size=batch_size)\n",
    "\n",
    "    def evaluate(self, dataloader):\n",
    "        predictions = []\n",
    "        true_labels = []\n",
    "        \n",
    "        with torch.no_grad():\n",
    "            for batch in tqdm(dataloader, desc=f\"Evaluating {self.model_name}\"):\n",
    "                input_ids = batch['input_ids'].to(self.device)\n",
    "                attention_mask = batch['attention_mask'].to(self.device)\n",
    "                labels = batch['labels'].to(self.device)\n",
    "\n",
    "                outputs = self.model(input_ids, attention_mask=attention_mask)\n",
    "                logits = outputs.logits\n",
    "                \n",
    "                if self.is_three_class:\n",
    "                    # Map the three-class predictions to binary:\n",
    "                    # severe (0) -> depression (1)\n",
    "                    # moderate (1) -> depression (1)\n",
    "                    # not depression (2) -> not depression (0)\n",
    "                    preds = torch.argmax(logits, dim=1)\n",
    "                    preds = (preds < 2).long()  # 0 and 1 become 1, 2 becomes 0\n",
    "                else:\n",
    "                    preds = torch.argmax(logits, dim=1)\n",
    "\n",
    "                predictions.extend(preds.cpu().numpy())\n",
    "                true_labels.extend(labels.cpu().numpy())\n",
    "\n",
    "        return self.calculate_metrics(true_labels, predictions)\n",
    "\n",
    "    @staticmethod\n",
    "    def calculate_metrics(true_labels, predictions):\n",
    "        accuracy = accuracy_score(true_labels, predictions)\n",
    "        precision, recall, f1, _ = precision_recall_fscore_support(true_labels, predictions, average='binary')\n",
    "        \n",
    "        return {\n",
    "            'accuracy': accuracy,\n",
    "            'precision': precision,\n",
    "            'recall': recall,\n",
    "            'f1': f1\n",
    "        }\n",
    "\n",
    "def benchmark_models(df):\n",
    "    models = [\n",
    "        # ('rafalposwiata/deproberta-large-depression','rafalposwiata/deproberta-large-depression'), This is RoBERTa-large!\n",
    "        ('ShreyaR/finetuned-roberta-depression', 'ShreyaR/finetuned-roberta-depression'),\n",
    "        ('malexandersalazar/xlm-roberta-base-cls-depression', 'FacebookAI/xlm-roberta-base'),\n",
    "        ('ShreyaR/finetuned-distil-bert-depression','ShreyaR/finetuned-distil-bert-depression'),\n",
    "        ('mrjunos/depression-reddit-distilroberta-base','mrjunos/depression-reddit-distilroberta-base'),\n",
    "        ('mrm8488/distilroberta-base-finetuned-suicide-depression','mrm8488/distilroberta-base-finetuned-suicide-depression')\n",
    "    ]\n",
    "    \n",
    "    results = {}\n",
    "    \n",
    "    for model_name, tokenizer_name in models:\n",
    "        print(f\"\\nEvaluating model: {model_name}\")\n",
    "        evaluator = ModelEvaluator(model_name, tokenizer_name)\n",
    "        \n",
    "        if evaluator.load_model():\n",
    "            dataloader = evaluator.prepare_data(df)\n",
    "            metrics = evaluator.evaluate(dataloader)\n",
    "            results[model_name] = metrics\n",
    "        else:\n",
    "            print(f\"Skipping evaluation for {model_name} due to loading error\")\n",
    "    \n",
    "    return results\n",
    "\n",
    "def print_results(results):\n",
    "    print(\"\\nBenchmarking Results:\")\n",
    "    print(\"-\" * 100)\n",
    "    print(f\"{'Model':<50} | {'Accuracy':>10} | {'Precision':>10} | {'Recall':>10} | {'F1':>10}\")\n",
    "    print(\"-\" * 100)\n",
    "    \n",
    "    for model_name, metrics in results.items():\n",
    "        model_short_name = model_name.split('/')[-1]\n",
    "        print(f\"{model_short_name:<50} | {metrics['accuracy']:>10.4f} | {metrics['precision']:>10.4f} | \"\n",
    "              f\"{metrics['recall']:>10.4f} | {metrics['f1']:>10.4f}\")"
   ]
  },
  {
   "cell_type": "code",
   "execution_count": 25,
   "metadata": {},
   "outputs": [
    {
     "name": "stdout",
     "output_type": "stream",
     "text": [
      "\n",
      "Evaluating model: ShreyaR/finetuned-roberta-depression\n"
     ]
    },
    {
     "name": "stderr",
     "output_type": "stream",
     "text": [
      "Evaluating ShreyaR/finetuned-roberta-depression: 100%|██████████| 7500/7500 [03:04<00:00, 40.65it/s]\n"
     ]
    },
    {
     "name": "stdout",
     "output_type": "stream",
     "text": [
      "\n",
      "Evaluating model: malexandersalazar/xlm-roberta-base-cls-depression\n"
     ]
    },
    {
     "name": "stderr",
     "output_type": "stream",
     "text": [
      "Evaluating malexandersalazar/xlm-roberta-base-cls-depression: 100%|██████████| 7500/7500 [03:10<00:00, 39.34it/s]\n"
     ]
    },
    {
     "name": "stdout",
     "output_type": "stream",
     "text": [
      "\n",
      "Evaluating model: ShreyaR/finetuned-distil-bert-depression\n"
     ]
    },
    {
     "name": "stderr",
     "output_type": "stream",
     "text": [
      "Evaluating ShreyaR/finetuned-distil-bert-depression: 100%|██████████| 7500/7500 [01:42<00:00, 73.10it/s]\n"
     ]
    },
    {
     "name": "stdout",
     "output_type": "stream",
     "text": [
      "\n",
      "Evaluating model: mrjunos/depression-reddit-distilroberta-base\n"
     ]
    },
    {
     "name": "stderr",
     "output_type": "stream",
     "text": [
      "Evaluating mrjunos/depression-reddit-distilroberta-base: 100%|██████████| 7500/7500 [01:44<00:00, 71.62it/s]\n"
     ]
    },
    {
     "name": "stdout",
     "output_type": "stream",
     "text": [
      "\n",
      "Evaluating model: mrm8488/distilroberta-base-finetuned-suicide-depression\n"
     ]
    },
    {
     "name": "stderr",
     "output_type": "stream",
     "text": [
      "Evaluating mrm8488/distilroberta-base-finetuned-suicide-depression: 100%|██████████| 7500/7500 [01:41<00:00, 73.91it/s]\n"
     ]
    },
    {
     "name": "stdout",
     "output_type": "stream",
     "text": [
      "\n",
      "Benchmarking Results:\n",
      "----------------------------------------------------------------------------------------------------\n",
      "Model                                              |   Accuracy |  Precision |     Recall |         F1\n",
      "----------------------------------------------------------------------------------------------------\n",
      "finetuned-roberta-depression                       |     0.6820 |     0.6164 |     0.9701 |     0.7538\n",
      "xlm-roberta-base-cls-depression                    |     0.7841 |     0.8458 |     0.6967 |     0.7640\n",
      "finetuned-distil-bert-depression                   |     0.7135 |     0.6475 |     0.9419 |     0.7674\n",
      "depression-reddit-distilroberta-base               |     0.7604 |     0.6937 |     0.9360 |     0.7968\n",
      "distilroberta-base-finetuned-suicide-depression    |     0.5663 |     0.5605 |     0.6291 |     0.5928\n"
     ]
    }
   ],
   "source": [
    "if __name__ == \"__main__\":\n",
    "    depression_detection = datasets.load_dataset('thePixel42/depression-detection')\n",
    "    depression_detection_df = depression_detection['test'].to_pandas()\n",
    "    results = benchmark_models(depression_detection_df)\n",
    "    print_results(results)"
   ]
  }
 ],
 "metadata": {
  "kernelspec": {
   "display_name": ".venv",
   "language": "python",
   "name": "python3"
  },
  "language_info": {
   "codemirror_mode": {
    "name": "ipython",
    "version": 3
   },
   "file_extension": ".py",
   "mimetype": "text/x-python",
   "name": "python",
   "nbconvert_exporter": "python",
   "pygments_lexer": "ipython3",
   "version": "3.10.14"
  }
 },
 "nbformat": 4,
 "nbformat_minor": 2
}
