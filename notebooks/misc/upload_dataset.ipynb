{
 "cells": [
  {
   "cell_type": "code",
   "execution_count": 6,
   "metadata": {},
   "outputs": [],
   "source": [
    "import os\n",
    "import pandas as pd\n",
    "from pathlib import Path\n",
    "from dotenv import load_dotenv\n",
    "\n",
    "from datasets import Dataset\n",
    "from huggingface_hub import login"
   ]
  },
  {
   "cell_type": "code",
   "execution_count": null,
   "metadata": {},
   "outputs": [],
   "source": [
    "load_dotenv(override=True)"
   ]
  },
  {
   "cell_type": "code",
   "execution_count": 8,
   "metadata": {},
   "outputs": [],
   "source": [
    "current_dir = Path().resolve()\n",
    "while not current_dir.name.endswith(\"xlm-roberta-base-cls-depression\"):\n",
    "    current_dir = current_dir.parent\n",
    "\n",
    "os.chdir(current_dir)\n",
    "\n",
    "input_mental_health_texts_data = current_dir / \"data/raw/mental_health_texts.csv\""
   ]
  },
  {
   "cell_type": "code",
   "execution_count": 9,
   "metadata": {},
   "outputs": [],
   "source": [
    "def upload_mental_health_dataset(\n",
    "    csv_path: str,\n",
    "    repo_name: str = \"mental-health-depression\",\n",
    "    repo_owner: str = \"malexandersalazar\"\n",
    ") -> None:\n",
    "    \"\"\"\n",
    "    Upload the mental health dataset to Hugging Face Hub with a dataset card from file.\n",
    "    \n",
    "    Args:\n",
    "        csv_path: Path to the mental_health_texts.csv file\n",
    "        repo_name: Name for the dataset repository\n",
    "        repo_owner: Username/organization to upload to\n",
    "    \"\"\"\n",
    "    # Login to Hugging Face\n",
    "    login()\n",
    "    \n",
    "    # Read the CSV file\n",
    "    df = pd.read_csv(csv_path, sep='|')\n",
    "    \n",
    "    # Convert DataFrame to Hugging Face Dataset\n",
    "    dataset = Dataset.from_pandas(df)\n",
    "    \n",
    "    # Prepare repository name\n",
    "    full_repo_name = f\"{repo_owner}/{repo_name}\"\n",
    "    \n",
    "    # Push dataset to hub with the dataset card\n",
    "    dataset.push_to_hub(\n",
    "        repo_id=full_repo_name,\n",
    "        private=False\n",
    "    )"
   ]
  },
  {
   "cell_type": "code",
   "execution_count": null,
   "metadata": {},
   "outputs": [],
   "source": [
    "if __name__ == \"__main__\":\n",
    "    CSV_PATH = input_mental_health_texts_data\n",
    "    \n",
    "    upload_mental_health_dataset(\n",
    "        csv_path=CSV_PATH\n",
    "    )"
   ]
  }
 ],
 "metadata": {
  "kernelspec": {
   "display_name": ".venv",
   "language": "python",
   "name": "python3"
  },
  "language_info": {
   "codemirror_mode": {
    "name": "ipython",
    "version": 3
   },
   "file_extension": ".py",
   "mimetype": "text/x-python",
   "name": "python",
   "nbconvert_exporter": "python",
   "pygments_lexer": "ipython3",
   "version": "3.10.14"
  }
 },
 "nbformat": 4,
 "nbformat_minor": 2
}
