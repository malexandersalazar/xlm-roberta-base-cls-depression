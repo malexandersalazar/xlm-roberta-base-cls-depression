{
 "cells": [
  {
   "cell_type": "code",
   "execution_count": 13,
   "metadata": {},
   "outputs": [],
   "source": [
    "import os\n",
    "import numpy as np\n",
    "import pandas as pd\n",
    "from pathlib import Path\n",
    "from random import SystemRandom\n",
    "\n",
    "import torch\n",
    "import evaluate\n",
    "from torch.utils.data import Dataset\n",
    "from sklearn.metrics import precision_score, recall_score, f1_score\n",
    "from transformers import AutoTokenizer, AutoModelForSequenceClassification, TrainingArguments, Trainer, EarlyStoppingCallback"
   ]
  },
  {
   "cell_type": "code",
   "execution_count": 14,
   "metadata": {},
   "outputs": [],
   "source": [
    "current_dir = Path().resolve()\n",
    "while not current_dir.name.endswith(\"xlm-roberta-base-cls-depression\"):\n",
    "    current_dir = current_dir.parent\n",
    "\n",
    "os.chdir(current_dir)\n",
    "\n",
    "input_train_data = current_dir / \"data/clean/train.csv\"\n",
    "input_val_data = current_dir / \"data/clean/val.csv\"\n",
    "output_model_dir = current_dir / \"data/models/xlm-roberta-base-cls-depression\"\n",
    "\n",
    "os.makedirs(output_model_dir, exist_ok=True)"
   ]
  },
  {
   "cell_type": "code",
   "execution_count": 15,
   "metadata": {},
   "outputs": [],
   "source": [
    "tokenizer = AutoTokenizer.from_pretrained(\"FacebookAI/xlm-roberta-base\")\n",
    "\n",
    "class CustomDataset(Dataset):\n",
    "    def __init__(self, dataframe, tokenizer):\n",
    "        encoded = tokenizer(\n",
    "            dataframe['text'].tolist(),\n",
    "            padding=\"max_length\",\n",
    "            truncation=True,\n",
    "            max_length=512,\n",
    "            return_tensors=\"pt\"\n",
    "        )\n",
    "\n",
    "        self.input_ids = encoded['input_ids']\n",
    "        self.attention_mask = encoded['attention_mask']\n",
    "        self.labels = torch.tensor(dataframe['label'].tolist())\n",
    "\n",
    "    def __len__(self):\n",
    "        return len(self.labels)\n",
    "\n",
    "    def __getitem__(self, idx):\n",
    "        return {\n",
    "            'input_ids': self.input_ids[idx],\n",
    "            'attention_mask': self.attention_mask[idx],\n",
    "            'labels': self.labels[idx]\n",
    "        }\n",
    "    \n",
    "    def select(self, indices):\n",
    "        \"\"\"Create a new dataset with only the selected indices\"\"\"\n",
    "        new_input_ids = self.input_ids[indices]\n",
    "        new_attention_mask = self.attention_mask[indices]\n",
    "        new_labels = self.labels[indices]\n",
    "        \n",
    "        new_dataset = CustomDataset.__new__(CustomDataset)\n",
    "        new_dataset.input_ids = new_input_ids\n",
    "        new_dataset.attention_mask = new_attention_mask\n",
    "        new_dataset.labels = new_labels\n",
    "        return new_dataset\n",
    "    \n",
    "    def shuffle(self, seed=None):\n",
    "        \"\"\"Shuffle the dataset securely and return a new shuffled dataset\"\"\"\n",
    "        indices = list(range(len(self)))\n",
    "        SystemRandom().shuffle(indices)\n",
    "        return self.select(indices)"
   ]
  },
  {
   "cell_type": "code",
   "execution_count": 16,
   "metadata": {},
   "outputs": [],
   "source": [
    "training_df = pd.read_csv(input_train_data, encoding='utf-8', sep='|')\n",
    "validation_df = pd.read_csv(input_val_data, encoding='utf-8', sep='|')\n",
    "train_dataset = CustomDataset(training_df, tokenizer)\n",
    "eval_dataset = CustomDataset(validation_df, tokenizer)\n",
    "small_train_dataset = train_dataset.shuffle(seed=42).select(range(700))\n",
    "small_eval_dataset = eval_dataset.shuffle(seed=42).select(range(300))"
   ]
  },
  {
   "cell_type": "code",
   "execution_count": 17,
   "metadata": {},
   "outputs": [
    {
     "name": "stderr",
     "output_type": "stream",
     "text": [
      "Some weights of XLMRobertaForSequenceClassification were not initialized from the model checkpoint at FacebookAI/xlm-roberta-base and are newly initialized: ['classifier.dense.bias', 'classifier.dense.weight', 'classifier.out_proj.bias', 'classifier.out_proj.weight']\n",
      "You should probably TRAIN this model on a down-stream task to be able to use it for predictions and inference.\n"
     ]
    }
   ],
   "source": [
    "model = AutoModelForSequenceClassification.from_pretrained(\"FacebookAI/xlm-roberta-base\", num_labels=2, torch_dtype=\"auto\")"
   ]
  },
  {
   "cell_type": "code",
   "execution_count": 18,
   "metadata": {},
   "outputs": [],
   "source": [
    "metric = evaluate.load(\"accuracy\")\n",
    "\n",
    "def compute_metrics(eval_pred):\n",
    "    logits, labels = eval_pred\n",
    "    predictions = np.argmax(logits, axis=-1)\n",
    "    accuracy = metric.compute(predictions=predictions, references=labels)\n",
    "    \n",
    "    # Additional metrics\n",
    "    precision = precision_score(labels, predictions, average='binary')\n",
    "    recall = recall_score(labels, predictions, average='binary')\n",
    "    f1 = f1_score(labels, predictions, average='binary')\n",
    "    \n",
    "    return {\n",
    "        'accuracy': accuracy['accuracy'],\n",
    "        'precision': precision,\n",
    "        'recall': recall,\n",
    "        'f1': f1\n",
    "    }\n",
    "\n",
    "training_args = TrainingArguments(\n",
    "    output_dir=output_model_dir,\n",
    "    eval_strategy=\"epoch\",\n",
    "    fp16=torch.cuda.is_available(),\n",
    "    learning_rate=2e-5,\n",
    "    warmup_ratio=0.1,\n",
    "    weight_decay=0.01,\n",
    "    num_train_epochs=10,\n",
    "    save_strategy=\"epoch\",\n",
    "    load_best_model_at_end=True,    \n",
    "    metric_for_best_model=\"precision\",\n",
    "    greater_is_better=True,\n",
    "    save_total_limit=1,\n",
    "    overwrite_output_dir=True,\n",
    "    push_to_hub=False,\n",
    "    save_safetensors=True,\n",
    "    per_device_train_batch_size=64,\n",
    "    per_device_eval_batch_size=64,\n",
    "    report_to='none'\n",
    "    )\n",
    "\n",
    "early_stopping_callback = EarlyStoppingCallback(\n",
    "    early_stopping_patience=5,\n",
    "    early_stopping_threshold=0.001\n",
    ")\n",
    "\n",
    "trainer = Trainer(\n",
    "    model=model,\n",
    "    args=training_args,\n",
    "    train_dataset=train_dataset,\n",
    "    eval_dataset=eval_dataset,\n",
    "    compute_metrics=compute_metrics,\n",
    "    callbacks=[early_stopping_callback]\n",
    ")"
   ]
  },
  {
   "cell_type": "code",
   "execution_count": 19,
   "metadata": {},
   "outputs": [
    {
     "data": {
      "application/vnd.jupyter.widget-view+json": {
       "model_id": "17cbc4b7aa3640918b9ac1a35553f46b",
       "version_major": 2,
       "version_minor": 0
      },
      "text/plain": [
       "  0%|          | 0/5350 [00:00<?, ?it/s]"
      ]
     },
     "metadata": {},
     "output_type": "display_data"
    },
    {
     "name": "stdout",
     "output_type": "stream",
     "text": [
      "{'loss': 0.3042, 'grad_norm': 7.505672931671143, 'learning_rate': 1.8504672897196264e-05, 'epoch': 0.93}\n"
     ]
    },
    {
     "data": {
      "application/vnd.jupyter.widget-view+json": {
       "model_id": "8fc59484205040a7b45a9b72a2e2852c",
       "version_major": 2,
       "version_minor": 0
      },
      "text/plain": [
       "  0%|          | 0/153 [00:00<?, ?it/s]"
      ]
     },
     "metadata": {},
     "output_type": "display_data"
    },
    {
     "name": "stdout",
     "output_type": "stream",
     "text": [
      "{'eval_loss': 0.0612601600587368, 'eval_accuracy': 0.9821099979554283, 'eval_precision': 0.976094470046083, 'eval_recall': 0.9735708129847744, 'eval_f1': 0.9748310081979001, 'eval_runtime': 12.1476, 'eval_samples_per_second': 805.263, 'eval_steps_per_second': 12.595, 'epoch': 1.0}\n",
      "{'loss': 0.0695, 'grad_norm': 8.783393859863281, 'learning_rate': 1.8089304257528557e-05, 'epoch': 1.87}\n"
     ]
    },
    {
     "data": {
      "application/vnd.jupyter.widget-view+json": {
       "model_id": "2692849365c64e619c423e5b6b932ec2",
       "version_major": 2,
       "version_minor": 0
      },
      "text/plain": [
       "  0%|          | 0/153 [00:00<?, ?it/s]"
      ]
     },
     "metadata": {},
     "output_type": "display_data"
    },
    {
     "name": "stdout",
     "output_type": "stream",
     "text": [
      "{'eval_loss': 0.058806486427783966, 'eval_accuracy': 0.9831322837865467, 'eval_precision': 0.9626116071428571, 'eval_recall': 0.9910945130709566, 'eval_f1': 0.9766454352441614, 'eval_runtime': 12.2174, 'eval_samples_per_second': 800.665, 'eval_steps_per_second': 12.523, 'epoch': 2.0}\n",
      "{'loss': 0.047, 'grad_norm': 5.981130599975586, 'learning_rate': 1.6012461059190032e-05, 'epoch': 2.8}\n"
     ]
    },
    {
     "data": {
      "application/vnd.jupyter.widget-view+json": {
       "model_id": "4040214c9d214baa84d78a2bea0d8f28",
       "version_major": 2,
       "version_minor": 0
      },
      "text/plain": [
       "  0%|          | 0/153 [00:00<?, ?it/s]"
      ]
     },
     "metadata": {},
     "output_type": "display_data"
    },
    {
     "name": "stdout",
     "output_type": "stream",
     "text": [
      "{'eval_loss': 0.05304295942187309, 'eval_accuracy': 0.9871191985279084, 'eval_precision': 0.9716052853528254, 'eval_recall': 0.9928181557023844, 'eval_f1': 0.9820971867007673, 'eval_runtime': 12.0536, 'eval_samples_per_second': 811.542, 'eval_steps_per_second': 12.693, 'epoch': 3.0}\n",
      "{'loss': 0.0286, 'grad_norm': 0.3641500473022461, 'learning_rate': 1.3935617860851506e-05, 'epoch': 3.74}\n"
     ]
    },
    {
     "data": {
      "application/vnd.jupyter.widget-view+json": {
       "model_id": "15f5a18dfe09463695fb5df38e97854a",
       "version_major": 2,
       "version_minor": 0
      },
      "text/plain": [
       "  0%|          | 0/153 [00:00<?, ?it/s]"
      ]
     },
     "metadata": {},
     "output_type": "display_data"
    },
    {
     "name": "stdout",
     "output_type": "stream",
     "text": [
      "{'eval_loss': 0.045352041721343994, 'eval_accuracy': 0.9880392557759149, 'eval_precision': 0.9838895281933256, 'eval_recall': 0.9824762999138179, 'eval_f1': 0.9831824062095731, 'eval_runtime': 12.6587, 'eval_samples_per_second': 772.75, 'eval_steps_per_second': 12.087, 'epoch': 4.0}\n",
      "{'loss': 0.0186, 'grad_norm': 0.01878722943365574, 'learning_rate': 1.1862928348909659e-05, 'epoch': 4.67}\n"
     ]
    },
    {
     "data": {
      "application/vnd.jupyter.widget-view+json": {
       "model_id": "5cd263156671441fbaf47bba5eed3eb3",
       "version_major": 2,
       "version_minor": 0
      },
      "text/plain": [
       "  0%|          | 0/153 [00:00<?, ?it/s]"
      ]
     },
     "metadata": {},
     "output_type": "display_data"
    },
    {
     "name": "stdout",
     "output_type": "stream",
     "text": [
      "{'eval_loss': 0.05643901228904724, 'eval_accuracy': 0.9900838274381517, 'eval_precision': 0.9823261117445838, 'eval_recall': 0.9899454179833381, 'eval_f1': 0.9861210473601374, 'eval_runtime': 11.8694, 'eval_samples_per_second': 824.136, 'eval_steps_per_second': 12.89, 'epoch': 5.0}\n",
      "{'loss': 0.0123, 'grad_norm': 0.038373254239559174, 'learning_rate': 9.786085150571133e-06, 'epoch': 5.61}\n"
     ]
    },
    {
     "data": {
      "application/vnd.jupyter.widget-view+json": {
       "model_id": "d718f384c0ee4d0eb016f7b0fe5fe579",
       "version_major": 2,
       "version_minor": 0
      },
      "text/plain": [
       "  0%|          | 0/153 [00:00<?, ?it/s]"
      ]
     },
     "metadata": {},
     "output_type": "display_data"
    },
    {
     "name": "stdout",
     "output_type": "stream",
     "text": [
      "{'eval_loss': 0.07234998047351837, 'eval_accuracy': 0.9874258842772439, 'eval_precision': 0.9729577464788732, 'eval_recall': 0.9922436081585752, 'eval_f1': 0.9825060446593656, 'eval_runtime': 11.8694, 'eval_samples_per_second': 824.133, 'eval_steps_per_second': 12.89, 'epoch': 6.0}\n",
      "{'loss': 0.0088, 'grad_norm': 0.007156335283070803, 'learning_rate': 7.709241952232607e-06, 'epoch': 6.54}\n"
     ]
    },
    {
     "data": {
      "application/vnd.jupyter.widget-view+json": {
       "model_id": "6b720ce1baff44a3bf7e0125d52cec50",
       "version_major": 2,
       "version_minor": 0
      },
      "text/plain": [
       "  0%|          | 0/153 [00:00<?, ?it/s]"
      ]
     },
     "metadata": {},
     "output_type": "display_data"
    },
    {
     "name": "stdout",
     "output_type": "stream",
     "text": [
      "{'eval_loss': 0.07995575666427612, 'eval_accuracy': 0.9885503986914741, 'eval_precision': 0.9844693701466781, 'eval_recall': 0.9833381212295318, 'eval_f1': 0.9839034205231388, 'eval_runtime': 12.2146, 'eval_samples_per_second': 800.842, 'eval_steps_per_second': 12.526, 'epoch': 7.0}\n",
      "{'loss': 0.0073, 'grad_norm': 0.001571647939272225, 'learning_rate': 5.632398753894082e-06, 'epoch': 7.48}\n"
     ]
    },
    {
     "data": {
      "application/vnd.jupyter.widget-view+json": {
       "model_id": "91e0257e23ce48bbb778fa4cbd76c8ca",
       "version_major": 2,
       "version_minor": 0
      },
      "text/plain": [
       "  0%|          | 0/153 [00:00<?, ?it/s]"
      ]
     },
     "metadata": {},
     "output_type": "display_data"
    },
    {
     "name": "stdout",
     "output_type": "stream",
     "text": [
      "{'eval_loss': 0.08823443949222565, 'eval_accuracy': 0.9881414843590268, 'eval_precision': 0.9740772048464356, 'eval_recall': 0.993105429474289, 'eval_f1': 0.9834992887624466, 'eval_runtime': 11.2859, 'eval_samples_per_second': 866.746, 'eval_steps_per_second': 13.557, 'epoch': 8.0}\n",
      "{'loss': 0.005, 'grad_norm': 38.83103942871094, 'learning_rate': 3.555555555555556e-06, 'epoch': 8.41}\n"
     ]
    },
    {
     "data": {
      "application/vnd.jupyter.widget-view+json": {
       "model_id": "187ead129d684dd897823a0c38c9f017",
       "version_major": 2,
       "version_minor": 0
      },
      "text/plain": [
       "  0%|          | 0/153 [00:00<?, ?it/s]"
      ]
     },
     "metadata": {},
     "output_type": "display_data"
    },
    {
     "name": "stdout",
     "output_type": "stream",
     "text": [
      "{'eval_loss': 0.07840672135353088, 'eval_accuracy': 0.9889593130239215, 'eval_precision': 0.9781684150836405, 'eval_recall': 0.9910945130709566, 'eval_f1': 0.9845890410958904, 'eval_runtime': 10.8835, 'eval_samples_per_second': 898.794, 'eval_steps_per_second': 14.058, 'epoch': 9.0}\n",
      "{'train_runtime': 1592.5889, 'train_samples_per_second': 214.971, 'train_steps_per_second': 3.359, 'train_loss': 0.05238378181635776, 'epoch': 9.0}\n"
     ]
    },
    {
     "data": {
      "text/plain": [
       "TrainOutput(global_step=4815, training_loss=0.05238378181635776, metrics={'train_runtime': 1592.5889, 'train_samples_per_second': 214.971, 'train_steps_per_second': 3.359, 'total_flos': 8.107083082174464e+16, 'train_loss': 0.05238378181635776, 'epoch': 9.0})"
      ]
     },
     "execution_count": 19,
     "metadata": {},
     "output_type": "execute_result"
    }
   ],
   "source": [
    "trainer.train()"
   ]
  },
  {
   "cell_type": "code",
   "execution_count": 20,
   "metadata": {},
   "outputs": [],
   "source": [
    "trainer.save_model(output_model_dir)"
   ]
  }
 ],
 "metadata": {
  "kernelspec": {
   "display_name": ".venv",
   "language": "python",
   "name": "python3"
  },
  "language_info": {
   "codemirror_mode": {
    "name": "ipython",
    "version": 3
   },
   "file_extension": ".py",
   "mimetype": "text/x-python",
   "name": "python",
   "nbconvert_exporter": "python",
   "pygments_lexer": "ipython3",
   "version": "3.10.14"
  }
 },
 "nbformat": 4,
 "nbformat_minor": 2
}
