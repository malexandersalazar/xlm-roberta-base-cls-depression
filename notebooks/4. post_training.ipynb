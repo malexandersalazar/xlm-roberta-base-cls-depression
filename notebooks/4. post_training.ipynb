{
 "cells": [
  {
   "cell_type": "code",
   "execution_count": 1,
   "metadata": {},
   "outputs": [],
   "source": [
    "import os\n",
    "from pathlib import Path\n",
    "\n",
    "import torch\n",
    "from transformers import AutoTokenizer, AutoModelForSequenceClassification"
   ]
  },
  {
   "cell_type": "code",
   "execution_count": 2,
   "metadata": {},
   "outputs": [],
   "source": [
    "current_dir = Path().resolve()\n",
    "while not current_dir.name.endswith(\"xlm-roberta-base-cls-depression\"):\n",
    "    current_dir = current_dir.parent\n",
    "\n",
    "os.chdir(current_dir)\n",
    "\n",
    "input_val_data = current_dir / \"data/clean/val.csv\"\n",
    "input_model_dir = current_dir / \"data/models/xlm-roberta-base-cls-depression\"\n",
    "output_model_dir = current_dir / \"data/dist/xlm-roberta-base-cls-depression\"\n",
    "output_model_base_filename = output_model_dir / \"model.onnx\"\n",
    "output_model_quantized_filename = output_model_dir / \"model.quant.onnx\"\n",
    "\n",
    "os.makedirs(output_model_dir, exist_ok=True)"
   ]
  },
  {
   "cell_type": "markdown",
   "metadata": {},
   "source": [
    "### ONNX"
   ]
  },
  {
   "cell_type": "code",
   "execution_count": 3,
   "metadata": {},
   "outputs": [],
   "source": [
    "model = AutoModelForSequenceClassification.from_pretrained(input_model_dir)\n",
    "model.eval()\n",
    "\n",
    "tokenizer = AutoTokenizer.from_pretrained(\"FacebookAI/xlm-roberta-base\")\n",
    "\n",
    "text = \"Sample text\"\n",
    "encoding = tokenizer(text, return_tensors=\"pt\", padding=\"max_length\", max_length=512, truncation=True)\n",
    "\n",
    "symbolic_names = { 0: 'batch_size', 1: 'max_seq_len'}\n",
    "torch.onnx.export(\n",
    "    model,\n",
    "    (encoding[\"input_ids\"], encoding[\"attention_mask\"]),\n",
    "    output_model_base_filename,\n",
    "    input_names=['input_ids', 'attention_mask'],\n",
    "    output_names=['logits'],\n",
    "    dynamic_axes={\n",
    "        'input_ids': symbolic_names,\n",
    "        'attention_mask': symbolic_names,\n",
    "        'logits': symbolic_names\n",
    "    },\n",
    "    opset_version=16,\n",
    "    do_constant_folding=True\n",
    ")"
   ]
  },
  {
   "cell_type": "markdown",
   "metadata": {},
   "source": [
    "### ONNX.QUANT"
   ]
  },
  {
   "cell_type": "code",
   "execution_count": 3,
   "metadata": {},
   "outputs": [],
   "source": [
    "from optimum.onnxruntime.configuration import AutoQuantizationConfig\n",
    "from optimum.onnxruntime import ORTQuantizer, ORTModelForSequenceClassification\n",
    "\n",
    "onnx_model = ORTModelForSequenceClassification.from_pretrained(input_model_dir, export=True)"
   ]
  },
  {
   "cell_type": "code",
   "execution_count": 4,
   "metadata": {},
   "outputs": [],
   "source": [
    "quantizer = ORTQuantizer.from_pretrained(onnx_model)"
   ]
  },
  {
   "cell_type": "code",
   "execution_count": 5,
   "metadata": {},
   "outputs": [],
   "source": [
    "dqconfig = AutoQuantizationConfig.avx512_vnni(is_static=False, per_channel=True)"
   ]
  },
  {
   "cell_type": "code",
   "execution_count": 6,
   "metadata": {},
   "outputs": [],
   "source": [
    "model_quantized_path = quantizer.quantize(\n",
    "    save_dir=output_model_quantized_filename,\n",
    "    quantization_config=dqconfig,\n",
    ")"
   ]
  }
 ],
 "metadata": {
  "kernelspec": {
   "display_name": ".venv",
   "language": "python",
   "name": "python3"
  },
  "language_info": {
   "codemirror_mode": {
    "name": "ipython",
    "version": 3
   },
   "file_extension": ".py",
   "mimetype": "text/x-python",
   "name": "python",
   "nbconvert_exporter": "python",
   "pygments_lexer": "ipython3",
   "version": "3.10.14"
  }
 },
 "nbformat": 4,
 "nbformat_minor": 2
}
